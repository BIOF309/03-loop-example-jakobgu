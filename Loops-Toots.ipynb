{
 "cells": [
  {
   "cell_type": "code",
   "execution_count": 1,
   "metadata": {},
   "outputs": [
    {
     "data": {
      "text/html": [
       "<img src=\"https://images-na.ssl-images-amazon.com/images/I/51V4Ey49-oL._SY498_BO1,204,203,200_.jpg\"/>"
      ],
      "text/plain": [
       "<IPython.core.display.Image object>"
      ]
     },
     "execution_count": 1,
     "metadata": {},
     "output_type": "execute_result"
    }
   ],
   "source": [
    "from IPython.display import Image\n",
    "Image(url = 'https://images-na.ssl-images-amazon.com/images/I/51V4Ey49-oL._SY498_BO1,204,203,200_.jpg')"
   ]
  },
  {
   "cell_type": "code",
   "execution_count": 2,
   "metadata": {},
   "outputs": [
    {
     "name": "stdout",
     "output_type": "stream",
     "text": [
      "Toot - by Leslie Patricelli\n",
      "Toot. Oh. I tooted!\n",
      "Toot Toot Toooot - I'm a train! \n",
      "I toot on my Trike: Toot Toot\n",
      "I toot in my suit: Pfff\n",
      "I toot in my music class: shake shake. Thump thump. Boom boom. jingle jingle. Clunk clunk. Toot Toot\n",
      "I don't know if Kitty toots, or if Fishy toots.\n",
      "But I know Doggy toots. pfffft. Ewwww!\n",
      "Daddy's toots are LOUD. FWERP\n",
      "Mommy's toots are quiet. shh. Did someone toot?\n",
      "I toot when I have to go potty: Toot. plop. YAY!\n",
      "I toot when I have a tummy ache. fart. I feel better!\n",
      "I toot in the tubby. It's so bubbly! blip blip blip\n",
      "Some toots are long. BPPPPPPPPPP\n",
      "Some toots are short. pip\n",
      "ALL TOOTS ARE FUNNY! POOT POOT\n",
      "More sounds I make: burp, WAAAH, Hiccup, YAWN, Zzzzzzz, pthbbb, Ah Chooo!, Rumble Rumble, Cough Cough, Ha Ha Hoo Hoo\n",
      "\n",
      "\n"
     ]
    }
   ],
   "source": [
    "text = (\"Toot - by Leslie Patricelli\\nToot. Oh. I tooted!\\nToot Toot Toooot - I'm a train! \\nI toot on my Trike: \"\n",
    "        \"Toot Toot\\nI toot in my suit: Pfff\\nI toot in my music class: shake shake. Thump thump. Boom boom. \"\n",
    "        \"jingle jingle. Clunk clunk. Toot Toot\\nI don't know if Kitty toots, or if Fishy toots.\\nBut I know \"\n",
    "        \"Doggy toots. pfffft. Ewwww!\\nDaddy's toots are LOUD. FWERP\\nMommy's toots are quiet. shh. Did someone \"\n",
    "        \"toot?\\nI toot when I have to go potty: Toot. plop. YAY!\\nI toot when I have a tummy ache. fart. I feel \"\n",
    "        \"better!\\nI toot in the tubby. It's so bubbly! blip blip blip\\nSome toots are long. BPPPPPPPPPP\\nSome \"\n",
    "        \"toots are short. pip\\nALL TOOTS ARE FUNNY! POOT POOT\\nMore sounds I make: burp, WAAAH, Hiccup, YAWN, \"\n",
    "        \"Zzzzzzz, pthbbb, Ah Chooo!, Rumble Rumble, Cough Cough, Ha Ha Hoo Hoo\\n\\n\" )\n",
    "print(text)"
   ]
  },
  {
   "cell_type": "code",
   "execution_count": 3,
   "metadata": {},
   "outputs": [
    {
     "name": "stdout",
     "output_type": "stream",
     "text": [
      "After reading this book, I have said the word \"toot\" 26 times.\n",
      "\n",
      "['Toot', 'Toot', 'tooted', 'Toot', 'Toot', 'Toooot', 'toot', 'Toot', 'Toot', 'toot', 'toot', 'Toot', 'Toot', 'toots', 'toots', 'toots', 'toots', 'toots', 'toot', 'toot', 'Toot', 'toot', 'toot', 'toots', 'toots', 'TOOTS']\n"
     ]
    }
   ],
   "source": [
    "import re\n",
    "p = re.compile('to+t[sed]*',re.IGNORECASE)\n",
    "toots = p.findall(text)\n",
    "print('After reading this book, I have said the word \"toot\" '+str(len(toots))+' times.\\n')"
   ]
  },
  {
   "cell_type": "code",
   "execution_count": 4,
   "metadata": {},
   "outputs": [
    {
     "name": "stdout",
     "output_type": "stream",
     "text": [
      "After reading this book, I have said the word \"toot\" 26 times.\n",
      "\n"
     ]
    }
   ],
   "source": [
    "lower_text = text.lower()\n",
    "letters = list(lower_text)\n",
    "toots = []\n",
    "b=0\n",
    "c=0\n",
    "for a in range(len(letters)):\n",
    "    b=a+1\n",
    "    c=a+2\n",
    "    if letters[a] == 't' and letters[b] == 'o' and letters[c] == 'o':\n",
    "        toots.append(letters[a]+letters[b]+letters[c])\n",
    "print('After reading this book, I have said the word \"toot\" '+str(len(toots))+' times.\\n')"
   ]
  }
 ],
 "metadata": {
  "kernelspec": {
   "display_name": "Python 3",
   "language": "python",
   "name": "python3"
  },
  "language_info": {
   "codemirror_mode": {
    "name": "ipython",
    "version": 3
   },
   "file_extension": ".py",
   "mimetype": "text/x-python",
   "name": "python",
   "nbconvert_exporter": "python",
   "pygments_lexer": "ipython3",
   "version": "3.6.2"
  }
 },
 "nbformat": 4,
 "nbformat_minor": 2
}
